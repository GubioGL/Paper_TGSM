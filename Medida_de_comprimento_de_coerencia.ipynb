{
 "cells": [
  {
   "cell_type": "code",
   "execution_count": 1,
   "metadata": {},
   "outputs": [],
   "source": [
    "# Pacotes \n",
    "import matplotlib.pyplot as plt\n",
    "import numpy as np\n",
    "import scipy  as sp\n",
    "from LightPipes import *\n"
   ]
  },
  {
   "cell_type": "code",
   "execution_count": 2,
   "metadata": {},
   "outputs": [],
   "source": [
    "# Fenda:\n",
    "n     = 2**8\n",
    "lambd = 780*nm \n",
    "dx    = 5*um \n",
    "\n",
    "class grid:\n",
    "  pass\n",
    "grid.N  = n;   \n",
    "grid.dx = dx                               \n",
    "grid.x  = np.arange(-grid.N/2,grid.N/2,1)*grid.dx\n",
    "[grid.xx,grid.yy] = np.meshgrid(grid.x,grid.x);  "
   ]
  },
  {
   "cell_type": "code",
   "execution_count": 3,
   "metadata": {},
   "outputs": [],
   "source": [
    "# Campo \n",
    "# Definindo o campo \n",
    "def caiLG(L,P,w0,lamb,xx,yy):\n",
    "  z_R  = np.pi*w0**2/lamb  \n",
    "  r    = np.sqrt(xx**2+yy**2)                                                 \n",
    "  C    = np.sqrt(2*np.math.factorial(P)/(np.pi*np.math.factorial(P+abs(L))))\n",
    "  PL   = sp.special.assoc_laguerre(2*r**2/w0**2,P,abs(L))\n",
    "\n",
    "  Fase = np.exp(- 1j*L*np.arctan2(yy,xx) )\n",
    "  LG   = C*1/w0*(r*np.sqrt(2)/w0)**abs(L)*PL*np.exp( -r**2/w0**2)*Fase\n",
    "\n",
    "  return LG\n",
    "### Função da Suavização #########################\n",
    "def SUAVE(media, linha):\n",
    "  novalista = []\n",
    "  for i in range(media ,n,1):\n",
    "    novalista.append( sum(slitSS[linha,i-media:i])/media)\n",
    "  return np.array(novalista)\n",
    "\n",
    "def MM(suavizar,linha):\n",
    "  curva = SUAVE(suavizar,linha)\n",
    "  maxi2 = curva.max()\n",
    "  posiçao2 = 0\n",
    "  for i in curva:\n",
    "    if i == maxi2:\n",
    "      break \n",
    "    posiçao2 +=1 \n",
    "\n",
    "  #### Encontrar o valor mínimo local a Direita parti do maximo global\n",
    "  mini = 0\n",
    "  Vimax = curva[posiçao2:n]\n",
    "  for i in range(len(Vimax)):\n",
    "    if i == len(Vimax)-1:\n",
    "      break\n",
    "    if Vimax[i] > Vimax[i+1]:\n",
    "      mini = Vimax[i+1]\n",
    "    elif Vimax[i] < Vimax[i+1]:\n",
    "      mini = Vimax[i]\n",
    "      break   \n",
    "  # Vamos encontrar o posição no qual temos mínimo\n",
    "  PMin = 0 \n",
    "  for i in Vimax:\n",
    "    if i == mini:\n",
    "      break \n",
    "    PMin += 1  \n",
    "  posiçaomin = posiçao2 + PMin -1\n",
    "#######################################################################\n",
    "#### Encontrar o valor mínimo local a ESQUERDA a parti do maximo lobal\n",
    "  miniE = 0\n",
    "  xamiV = curva[0:posiçao2]\n",
    "#########################################################\n",
    "  for i in range(len(xamiV)):\n",
    "    i += 1\n",
    "    if i == len(xamiV)-1:\n",
    "      break\n",
    "    if xamiV[-i] > xamiV[-i-1]:\n",
    "      miniE = xamiV[-i-1]\n",
    "    elif xamiV[-i] < xamiV[-i-1]:\n",
    "      miniE = xamiV[-i]\n",
    "      break   \n",
    "  # Vamos encontrar o posição no qual temos mínimo\n",
    "  PMinE = 0 \n",
    "  for i in range(len(xamiV)):\n",
    "    i+=1\n",
    "    if xamiV[-i] == miniE: \n",
    "      break \n",
    "    PMinE += 1  \n",
    "  posiçaominE = posiçao2 - PMinE\n",
    "\n",
    "  if miniE > mini:\n",
    "    posiçaomin = posiçaominE\n",
    "    mini       = miniE\n",
    "  # [0] = Valor max,[1] = Posição max ,[2] = Valor Min,[3] = Posição Min\n",
    "  return maxi2, posiçao2, mini, posiçaomin  #,miniE, posiçaominE  \n",
    "\n",
    "def campo_final(T,lambd,delta,sigma,n,dx,weight_cutoff):\n",
    "    # Parâmetros do feixe TGSM\n",
    "    k     = 2*np.pi/lambd\n",
    "    a     = 1/(4*sigma**2) # [L]^-2\n",
    "    b     = 1/(2*delta**2) # [L]^-2\n",
    "    mu    = T/(k*delta**2)\n",
    "\n",
    "    t      = np.sqrt(abs((b+k*mu/2)/(b-k*mu/2))) # # no unit, always positive\n",
    "    auxNum = np.sqrt(4*a**2+8*a*b+(k*mu)**2)     # [L]^-2, always positive\n",
    "    w      = np.sqrt(2/auxNum)                   # [L], always positive\n",
    "    chi    = ((2*a+2*b-auxNum)/(2*a+2*b+auxNum)) # no unit, always positive??\n",
    "    \n",
    "    # Determinando os modos que precisam entrar na decomposição\n",
    "    p_par     = np.arange(0,50)\n",
    "    l_par     = np.arange(-100,100)\n",
    "    lp_par    = np.zeros((l_par.size*p_par.size,2),dtype=int)\n",
    "    bla       = np.zeros((l_par.size*p_par.size))\n",
    "    weight_00 = (np.pi/2)*w**2*(1-chi)\n",
    "    contador  = 0\n",
    "    for i in p_par:\n",
    "        for j in l_par:\n",
    "            weight = np.pi/2*w**2*(1-chi)*t**l_par[j]*abs(chi)**(abs(l_par[j])/2+p_par[i])\n",
    "            if weight/weight_00 >= weight_cutoff:\n",
    "                lp_par[contador,:] = [l_par[j], p_par[i]]\n",
    "                bla[contador]      = weight\n",
    "                contador = contador +1\n",
    "    lp_par = lp_par[:contador,:]\n",
    "    bla    = bla[:contador]\n",
    "    \n",
    "    # Gerando os campos para a soma incoerente \n",
    "    x  = np.arange(-n/2, n/2,1)*dx\n",
    "    xx,yy = np.meshgrid(x,x)\n",
    "    S =  np.exp(1j*np.zeros((n,n,lp_par.shape[0])))\n",
    "\n",
    "    for i in range(lp_par.shape[0]):\n",
    "        weight = np.pi/2*w**2*(1-chi)*t**lp_par[i,0]*chi**(abs(lp_par[i,0])/2+lp_par[i,1])\n",
    "        # usando a função do artigo para os modos\n",
    "        LG = caiLG(lp_par[i,0],lp_par[i,1],w,lambd,xx,yy)\n",
    "        S[:,:,i] = np.sqrt(weight)*LG\n",
    "    \n",
    "    return S,lp_par  \n",
    "  \n",
    "def slit(d0,a0,xx):\n",
    "  return (np.ones_like(xx)*(abs(xx+(d0/2))<=a0/2) + np.ones_like(xx)*(abs(xx-(d0/2))<=a0/2))\n",
    "\n",
    "def Interferencia(F,S,Islits,lp_par,z):\n",
    "    sSS = [0]\n",
    "    FF  = F.copy(F)\n",
    "    for i in range(lp_par.shape[0]):\n",
    "        FF.field = S[:,:,i]*Islits\n",
    "        FF1 = Forvard(z,FF)\n",
    "        sSS += Intensity(FF1)\n",
    "    return sSS     \n",
    "def Visivilidade(q,n,media):\n",
    "    Vis = []\n",
    "    qq = 0\n",
    "    for j in range(n//2-media,n//2+media ):\n",
    "        Vis.append(  ( MM(q,j)[0]-MM(q,j)[2])/(MM(q,j)[0]+MM(q,j)[2]) ) \n",
    "        qq+=1  \n",
    "    return sum(Vis)/qq\n",
    "     "
   ]
  },
  {
   "attachments": {},
   "cell_type": "markdown",
   "metadata": {},
   "source": [
    "# Modo Coerente:"
   ]
  },
  {
   "attachments": {},
   "cell_type": "markdown",
   "metadata": {},
   "source": [
    "### test:"
   ]
  },
  {
   "cell_type": "code",
   "execution_count": 4,
   "metadata": {},
   "outputs": [
    {
     "name": "stdout",
     "output_type": "stream",
     "text": [
      "Número de modos: 11\n"
     ]
    },
    {
     "data": {
      "image/png": "[encoded data removed]",
      "text/plain": [
       "<Figure size 1000x400 with 2 Axes>"
      ]
     },
     "metadata": {},
     "output_type": "display_data"
    }
   ],
   "source": [
    "S = campo_final(0.999,lambd,.15*mm,.15*mm,n,dx,weight_cutoff=0.015)\n",
    "print(\"Número de modos:\",len(S[1]))\n",
    "# show the total image of the incoherent sum\n",
    "img = np.sum(abs(S[0])**2,2)\n",
    "img = img/img.max()\n",
    "\n",
    "fig, (ax1, ax2) = plt.subplots(1,2,figsize=(10,4))\n",
    "fig.suptitle('Distribuição de Intensidade')\n",
    "\n",
    "ax1.imshow(img,cmap=\"jet\")\n",
    "ax2.plot(img[:,int(n/2)])\n",
    "plt.show()"
   ]
  },
  {
   "attachments": {},
   "cell_type": "markdown",
   "metadata": {},
   "source": [
    "### Com poucos modos:"
   ]
  },
  {
   "cell_type": "code",
   "execution_count": 5,
   "metadata": {},
   "outputs": [],
   "source": [
    "S1,lp_par1 = campo_final(0.999,lambd,0.15*mm,0.15*mm,n,dx,0.015)\n",
    "S2,lp_par2 = campo_final(0.999,lambd,0.1*mm ,0.15*mm,n,dx,0.015)\n",
    "S3,lp_par3 = campo_final(0.999,lambd,0.05*mm,0.15*mm,n,dx,0.015)"
   ]
  },
  {
   "cell_type": "code",
   "execution_count": null,
   "metadata": {},
   "outputs": [],
   "source": [
    "z  = 0.85*cm\n",
    "q  = 2\n",
    "a0 = (0.05/3)*mm; \n",
    "F  = Begin(abs(grid.x[0])*2,lambd,n-1) \n",
    "media = 30\n",
    "data  = []\n",
    "\n",
    "################################################\n",
    "data_i =[]\n",
    "for ii in range(25):\n",
    "  # make slit\n",
    "  Islits = slit((ii/100)*mm ,a0,grid.xx)\n",
    "  slitSS = Interferencia(F,S1,Islits,lp_par1,z)\n",
    "  data_i.append(Visivilidade(q,n,media))\n",
    "data.append(np.array(data_i))\n",
    "################################################\n",
    "\n",
    "data_i = []\n",
    "for ii in range(20):\n",
    "  # make slit\n",
    "  Islits = slit((ii/100)*mm ,a0,grid.xx)\n",
    "  slitSS = Interferencia(F,S2,Islits,lp_par2,z)\n",
    "  data_i.append(Visivilidade(q,n,media))\n",
    "data.append(np.array(data_i))\n",
    "################################################\n",
    "\n",
    "data_i = []\n",
    "for ii in range(15):\n",
    "  # make slit\n",
    "  Islits = slit((ii/100)*mm ,a0,grid.xx)\n",
    "  slitSS = Interferencia(F,S3,Islits,lp_par3,z)\n",
    "  data_i.append(Visivilidade(q,n,media))\n",
    "data.append(np.array(data_i))\n",
    "################################################"
   ]
  },
  {
   "cell_type": "code",
   "execution_count": null,
   "metadata": {},
   "outputs": [],
   "source": [
    "a = 0\n",
    "plt.plot(np.arange(a,25),data[0],'k.')\n",
    "plt.plot(np.arange(a,25),np.ones(len(data[0]))*0.37,label=f'0.37')\n",
    "\n",
    "plt.plot(np.arange(a,20),data[1],'r.')\n",
    "#plt.plot(np.arange(a,25),np.ones(len(data[0]))*data[1][0]*0.37,'r--',label=f'$\\delta:$=0.1mm')\n",
    "\n",
    "plt.plot(np.arange(a,15),data[2],'b.')\n",
    "#plt.plot( np.cos(-np.linspace(0,1,25)*(3.3)+0.05)**2,'--')\n",
    "#plt.plot(np.arange(a,25),np.ones(len(data[0]))*data[2][0]*0.37,'b--',label=f'$\\delta:$=0.05mm')\n",
    "plt.title(\"Modo coerente\")\n",
    "plt.legend()\n",
    "plt.ylabel(\"Visibilidade\")\n",
    "plt.xlabel(\"Distância entre as fendas(mm/100)\")\n",
    "plt.xticks(np.arange(a,25))\n",
    "plt.show()"
   ]
  },
  {
   "cell_type": "code",
   "execution_count": null,
   "metadata": {},
   "outputs": [],
   "source": [
    "print( \"d :\",np.round((0.15)*np.sqrt(2),2),  \"ERRO_d :\",np.round(0.01,2))\n",
    "print( \"d :\",np.round((0.1)*np.sqrt(2),2))\n",
    "print( \"d :\",np.round((0.05)*np.sqrt(2),2))"
   ]
  },
  {
   "attachments": {},
   "cell_type": "markdown",
   "metadata": {},
   "source": [
    "Erro da visibilidade"
   ]
  },
  {
   "cell_type": "code",
   "execution_count": null,
   "metadata": {},
   "outputs": [],
   "source": [
    "print( \"d :\",np.round((0.15)*np.sqrt(2),2),  \"ERRO_d :\",np.round(0.01,2))\n",
    "print( \"d :\",np.round((0.1)*np.sqrt(2),2))\n",
    "print( \"d :\",np.round((0.05)*np.sqrt(2),2))"
   ]
  },
  {
   "attachments": {},
   "cell_type": "markdown",
   "metadata": {},
   "source": [
    "### Com 350 modos"
   ]
  },
  {
   "attachments": {},
   "cell_type": "markdown",
   "metadata": {},
   "source": [
    "S1,lp_par1  =  campo_final(0.999,lambd,delta=0.15*mm,sigma=0.15*mm,n= 2**8,dx = 5*um ,weight_cutoff=5e-20)\n",
    "print(len(lp_par1))\n",
    "S2,lp_par2 =  campo_final(0.999,lambd,delta=.1*mm ,sigma=0.15*mm,n= 2**8,dx = 5*um ,weight_cutoff=3e-15)\n",
    "print(len(lp_par2))\n",
    "S3,lp_par3 =  campo_final(0.999,lambd,delta=.05*mm,sigma=0.15*mm,n= 2**8,dx = 5*um ,weight_cutoff=1e-11)\n",
    "print(len(lp_par3))\n",
    "\n",
    "z  = 0.85*cm\n",
    "q  = 2\n",
    "a0 = (0.05/3)*mm; \n",
    "F  = Begin(abs(grid.x[0])*2,lambd,n-1) \n",
    "media = 30\n",
    "data  = []\n",
    "\n",
    "################################################\n",
    "data_i =[]\n",
    "for ii in range(25):\n",
    "  # make slit\n",
    "  Islits = slit((ii/100)*mm ,a0,grid.xx)\n",
    "  slitSS = Interferencia(F,S1,Islits,lp_par1,z)\n",
    "  data_i.append(Visivilidade(q,n,media))\n",
    "data.append(np.array(data_i))\n",
    "################################################\n",
    "\n",
    "data_i = []\n",
    "for ii in range(20):\n",
    "  # make slit\n",
    "  Islits = slit((ii/100)*mm ,a0,grid.xx)\n",
    "  slitSS = Interferencia(F,S2,Islits,lp_par2,z)\n",
    "  data_i.append(Visivilidade(q,n,media))\n",
    "data.append(np.array(data_i))\n",
    "################################################\n",
    "\n",
    "data_i = []\n",
    "for ii in range(15):\n",
    "  # make slit\n",
    "  Islits = slit((ii/100)*mm ,a0,grid.xx)\n",
    "  slitSS = Interferencia(F,S3,Islits,lp_par3,z)\n",
    "  data_i.append(Visivilidade(q,n,media))\n",
    "data.append(np.array(data_i))\n",
    "################################################\n",
    "\n",
    "\n"
   ]
  }
 ],
 "metadata": {
  "kernelspec": {
   "display_name": "Python 3",
   "language": "python",
   "name": "python3"
  },
  "language_info": {
   "codemirror_mode": {
    "name": "ipython",
    "version": 3
   },
   "file_extension": ".py",
   "mimetype": "text/x-python",
   "name": "python",
   "nbconvert_exporter": "python",
   "pygments_lexer": "ipython3",
   "version": "3.10.4"
  },
  "orig_nbformat": 4
 },
 "nbformat": 4,
 "nbformat_minor": 2
}
